{
  "cells": [
    {
      "cell_type": "markdown",
      "metadata": {
        "id": "view-in-github",
        "colab_type": "text"
      },
      "source": [
        "<a href=\"https://colab.research.google.com/github/shachi-i/Quantum-Machine-Learning-for-Particle-Physics/blob/main/preprocessed_data_QML.ipynb\" target=\"_parent\"><img src=\"https://colab.research.google.com/assets/colab-badge.svg\" alt=\"Open In Colab\"/></a>"
      ]
    },
    {
      "cell_type": "code",
      "execution_count": null,
      "metadata": {
        "colab": {
          "base_uri": "https://localhost:8080/"
        },
        "id": "XN9EKvrXLnTq",
        "outputId": "4388724f-b525-468b-bf0b-f538f542ff9e"
      },
      "outputs": [
        {
          "name": "stdout",
          "output_type": "stream",
          "text": [
            "Collecting uproot\n",
            "  Downloading uproot-5.6.1-py3-none-any.whl.metadata (33 kB)\n",
            "Requirement already satisfied: numpy in /usr/local/lib/python3.11/dist-packages (2.0.2)\n",
            "Requirement already satisfied: pandas in /usr/local/lib/python3.11/dist-packages (2.2.2)\n",
            "Requirement already satisfied: scikit-learn in /usr/local/lib/python3.11/dist-packages (1.6.1)\n",
            "Collecting qiskit\n",
            "  Downloading qiskit-2.0.0-cp39-abi3-manylinux_2_17_x86_64.manylinux2014_x86_64.whl.metadata (12 kB)\n",
            "Collecting awkward>=2.4.6 (from uproot)\n",
            "  Downloading awkward-2.8.1-py3-none-any.whl.metadata (7.0 kB)\n",
            "Requirement already satisfied: cramjam>=2.5.0 in /usr/local/lib/python3.11/dist-packages (from uproot) (2.10.0)\n",
            "Requirement already satisfied: fsspec in /usr/local/lib/python3.11/dist-packages (from uproot) (2025.3.2)\n",
            "Requirement already satisfied: packaging in /usr/local/lib/python3.11/dist-packages (from uproot) (24.2)\n",
            "Collecting xxhash (from uproot)\n",
            "  Downloading xxhash-3.5.0-cp311-cp311-manylinux_2_17_x86_64.manylinux2014_x86_64.whl.metadata (12 kB)\n",
            "Requirement already satisfied: python-dateutil>=2.8.2 in /usr/local/lib/python3.11/dist-packages (from pandas) (2.8.2)\n",
            "Requirement already satisfied: pytz>=2020.1 in /usr/local/lib/python3.11/dist-packages (from pandas) (2025.2)\n",
            "Requirement already satisfied: tzdata>=2022.7 in /usr/local/lib/python3.11/dist-packages (from pandas) (2025.2)\n",
            "Requirement already satisfied: scipy>=1.6.0 in /usr/local/lib/python3.11/dist-packages (from scikit-learn) (1.14.1)\n",
            "Requirement already satisfied: joblib>=1.2.0 in /usr/local/lib/python3.11/dist-packages (from scikit-learn) (1.4.2)\n",
            "Requirement already satisfied: threadpoolctl>=3.1.0 in /usr/local/lib/python3.11/dist-packages (from scikit-learn) (3.6.0)\n",
            "Collecting rustworkx>=0.15.0 (from qiskit)\n",
            "  Downloading rustworkx-0.16.0-cp39-abi3-manylinux_2_17_x86_64.manylinux2014_x86_64.whl.metadata (10 kB)\n",
            "Requirement already satisfied: sympy>=1.3 in /usr/local/lib/python3.11/dist-packages (from qiskit) (1.13.1)\n",
            "Collecting dill>=0.3 (from qiskit)\n",
            "  Downloading dill-0.4.0-py3-none-any.whl.metadata (10 kB)\n",
            "Collecting stevedore>=3.0.0 (from qiskit)\n",
            "  Downloading stevedore-5.4.1-py3-none-any.whl.metadata (2.3 kB)\n",
            "Requirement already satisfied: typing-extensions in /usr/local/lib/python3.11/dist-packages (from qiskit) (4.13.2)\n",
            "Collecting symengine<0.14,>=0.11 (from qiskit)\n",
            "  Downloading symengine-0.13.0-cp311-cp311-manylinux_2_17_x86_64.manylinux2014_x86_64.whl.metadata (1.2 kB)\n",
            "Collecting awkward-cpp==45 (from awkward>=2.4.6->uproot)\n",
            "  Downloading awkward_cpp-45-cp311-cp311-manylinux_2_17_x86_64.manylinux2014_x86_64.whl.metadata (2.1 kB)\n",
            "Requirement already satisfied: importlib-metadata>=4.13.0 in /usr/local/lib/python3.11/dist-packages (from awkward>=2.4.6->uproot) (8.6.1)\n",
            "Requirement already satisfied: six>=1.5 in /usr/local/lib/python3.11/dist-packages (from python-dateutil>=2.8.2->pandas) (1.17.0)\n",
            "Collecting pbr>=2.0.0 (from stevedore>=3.0.0->qiskit)\n",
            "  Downloading pbr-6.1.1-py2.py3-none-any.whl.metadata (3.4 kB)\n",
            "Requirement already satisfied: mpmath<1.4,>=1.1.0 in /usr/local/lib/python3.11/dist-packages (from sympy>=1.3->qiskit) (1.3.0)\n",
            "Requirement already satisfied: zipp>=3.20 in /usr/local/lib/python3.11/dist-packages (from importlib-metadata>=4.13.0->awkward>=2.4.6->uproot) (3.21.0)\n",
            "Requirement already satisfied: setuptools in /usr/local/lib/python3.11/dist-packages (from pbr>=2.0.0->stevedore>=3.0.0->qiskit) (75.2.0)\n",
            "Downloading uproot-5.6.1-py3-none-any.whl (375 kB)\n",
            "\u001b[2K   \u001b[90m━━━━━━━━━━━━━━━━━━━━━━━━━━━━━━━━━━━━━━━━\u001b[0m \u001b[32m375.6/375.6 kB\u001b[0m \u001b[31m9.7 MB/s\u001b[0m eta \u001b[36m0:00:00\u001b[0m\n",
            "\u001b[?25hDownloading qiskit-2.0.0-cp39-abi3-manylinux_2_17_x86_64.manylinux2014_x86_64.whl (6.5 MB)\n",
            "\u001b[2K   \u001b[90m━━━━━━━━━━━━━━━━━━━━━━━━━━━━━━━━━━━━━━━━\u001b[0m \u001b[32m6.5/6.5 MB\u001b[0m \u001b[31m59.6 MB/s\u001b[0m eta \u001b[36m0:00:00\u001b[0m\n",
            "\u001b[?25hDownloading awkward-2.8.1-py3-none-any.whl (879 kB)\n",
            "\u001b[2K   \u001b[90m━━━━━━━━━━━━━━━━━━━━━━━━━━━━━━━━━━━━━━━━\u001b[0m \u001b[32m879.4/879.4 kB\u001b[0m \u001b[31m42.1 MB/s\u001b[0m eta \u001b[36m0:00:00\u001b[0m\n",
            "\u001b[?25hDownloading awkward_cpp-45-cp311-cp311-manylinux_2_17_x86_64.manylinux2014_x86_64.whl (638 kB)\n",
            "\u001b[2K   \u001b[90m━━━━━━━━━━━━━━━━━━━━━━━━━━━━━━━━━━━━━━━━\u001b[0m \u001b[32m638.7/638.7 kB\u001b[0m \u001b[31m32.0 MB/s\u001b[0m eta \u001b[36m0:00:00\u001b[0m\n",
            "\u001b[?25hDownloading dill-0.4.0-py3-none-any.whl (119 kB)\n",
            "\u001b[2K   \u001b[90m━━━━━━━━━━━━━━━━━━━━━━━━━━━━━━━━━━━━━━━━\u001b[0m \u001b[32m119.7/119.7 kB\u001b[0m \u001b[31m8.3 MB/s\u001b[0m eta \u001b[36m0:00:00\u001b[0m\n",
            "\u001b[?25hDownloading rustworkx-0.16.0-cp39-abi3-manylinux_2_17_x86_64.manylinux2014_x86_64.whl (2.1 MB)\n",
            "\u001b[2K   \u001b[90m━━━━━━━━━━━━━━━━━━━━━━━━━━━━━━━━━━━━━━━━\u001b[0m \u001b[32m2.1/2.1 MB\u001b[0m \u001b[31m52.0 MB/s\u001b[0m eta \u001b[36m0:00:00\u001b[0m\n",
            "\u001b[?25hDownloading stevedore-5.4.1-py3-none-any.whl (49 kB)\n",
            "\u001b[2K   \u001b[90m━━━━━━━━━━━━━━━━━━━━━━━━━━━━━━━━━━━━━━━━\u001b[0m \u001b[32m49.5/49.5 kB\u001b[0m \u001b[31m2.5 MB/s\u001b[0m eta \u001b[36m0:00:00\u001b[0m\n",
            "\u001b[?25hDownloading symengine-0.13.0-cp311-cp311-manylinux_2_17_x86_64.manylinux2014_x86_64.whl (49.7 MB)\n",
            "\u001b[2K   \u001b[90m━━━━━━━━━━━━━━━━━━━━━━━━━━━━━━━━━━━━━━━━\u001b[0m \u001b[32m49.7/49.7 MB\u001b[0m \u001b[31m16.6 MB/s\u001b[0m eta \u001b[36m0:00:00\u001b[0m\n",
            "\u001b[?25hDownloading xxhash-3.5.0-cp311-cp311-manylinux_2_17_x86_64.manylinux2014_x86_64.whl (194 kB)\n",
            "\u001b[2K   \u001b[90m━━━━━━━━━━━━━━━━━━━━━━━━━━━━━━━━━━━━━━━━\u001b[0m \u001b[32m194.8/194.8 kB\u001b[0m \u001b[31m10.9 MB/s\u001b[0m eta \u001b[36m0:00:00\u001b[0m\n",
            "\u001b[?25hDownloading pbr-6.1.1-py2.py3-none-any.whl (108 kB)\n",
            "\u001b[2K   \u001b[90m━━━━━━━━━━━━━━━━━━━━━━━━━━━━━━━━━━━━━━━━\u001b[0m \u001b[32m109.0/109.0 kB\u001b[0m \u001b[31m7.1 MB/s\u001b[0m eta \u001b[36m0:00:00\u001b[0m\n",
            "\u001b[?25hInstalling collected packages: xxhash, symengine, rustworkx, pbr, dill, awkward-cpp, stevedore, awkward, uproot, qiskit\n",
            "Successfully installed awkward-2.8.1 awkward-cpp-45 dill-0.4.0 pbr-6.1.1 qiskit-2.0.0 rustworkx-0.16.0 stevedore-5.4.1 symengine-0.13.0 uproot-5.6.1 xxhash-3.5.0\n"
          ]
        }
      ],
      "source": [
        "pip install uproot numpy pandas scikit-learn qiskit\n"
      ]
    },
    {
      "cell_type": "code",
      "execution_count": null,
      "metadata": {
        "colab": {
          "base_uri": "https://localhost:8080/"
        },
        "id": "fa1RRp6eMgJd",
        "outputId": "cb5fd5e1-31f5-4ba2-9127-cee902d281c3"
      },
      "outputs": [
        {
          "name": "stdout",
          "output_type": "stream",
          "text": [
            "['mini;1']\n"
          ]
        }
      ],
      "source": [
        "import uproot\n",
        "import pandas as pd\n",
        "\n",
        "\n",
        "file = uproot.open(\"https://atlas-opendata.web.cern.ch/Legacy8TeV/Data/DataEgamma.root\")\n",
        "\n",
        "\n",
        "print(file.keys())"
      ]
    },
    {
      "cell_type": "code",
      "execution_count": null,
      "metadata": {
        "colab": {
          "base_uri": "https://localhost:8080/"
        },
        "id": "ZEL494XGNDOs",
        "outputId": "b212e823-bcb7-42ce-a6b9-c314880b4e24"
      },
      "outputs": [
        {
          "name": "stdout",
          "output_type": "stream",
          "text": [
            "Collecting awkward-pandas\n",
            "  Downloading awkward_pandas-2023.8.0-py3-none-any.whl.metadata (2.1 kB)\n",
            "Requirement already satisfied: awkward>=2.0.0 in /usr/local/lib/python3.11/dist-packages (from awkward-pandas) (2.8.1)\n",
            "Requirement already satisfied: pandas>=1.2 in /usr/local/lib/python3.11/dist-packages (from awkward-pandas) (2.2.2)\n",
            "Requirement already satisfied: awkward-cpp==45 in /usr/local/lib/python3.11/dist-packages (from awkward>=2.0.0->awkward-pandas) (45)\n",
            "Requirement already satisfied: fsspec>=2022.11.0 in /usr/local/lib/python3.11/dist-packages (from awkward>=2.0.0->awkward-pandas) (2025.3.2)\n",
            "Requirement already satisfied: importlib-metadata>=4.13.0 in /usr/local/lib/python3.11/dist-packages (from awkward>=2.0.0->awkward-pandas) (8.6.1)\n",
            "Requirement already satisfied: numpy>=1.18.0 in /usr/local/lib/python3.11/dist-packages (from awkward>=2.0.0->awkward-pandas) (2.0.2)\n",
            "Requirement already satisfied: packaging in /usr/local/lib/python3.11/dist-packages (from awkward>=2.0.0->awkward-pandas) (24.2)\n",
            "Requirement already satisfied: python-dateutil>=2.8.2 in /usr/local/lib/python3.11/dist-packages (from pandas>=1.2->awkward-pandas) (2.8.2)\n",
            "Requirement already satisfied: pytz>=2020.1 in /usr/local/lib/python3.11/dist-packages (from pandas>=1.2->awkward-pandas) (2025.2)\n",
            "Requirement already satisfied: tzdata>=2022.7 in /usr/local/lib/python3.11/dist-packages (from pandas>=1.2->awkward-pandas) (2025.2)\n",
            "Requirement already satisfied: zipp>=3.20 in /usr/local/lib/python3.11/dist-packages (from importlib-metadata>=4.13.0->awkward>=2.0.0->awkward-pandas) (3.21.0)\n",
            "Requirement already satisfied: six>=1.5 in /usr/local/lib/python3.11/dist-packages (from python-dateutil>=2.8.2->pandas>=1.2->awkward-pandas) (1.17.0)\n",
            "Downloading awkward_pandas-2023.8.0-py3-none-any.whl (11 kB)\n",
            "Installing collected packages: awkward-pandas\n",
            "Successfully installed awkward-pandas-2023.8.0\n"
          ]
        }
      ],
      "source": [
        "pip install awkward-pandas"
      ]
    },
    {
      "cell_type": "code",
      "execution_count": null,
      "metadata": {
        "colab": {
          "base_uri": "https://localhost:8080/"
        },
        "id": "ymvcDOr5MuOW",
        "outputId": "5bca4d6e-222d-4bea-f262-72e5b36cca8c"
      },
      "outputs": [
        {
          "name": "stdout",
          "output_type": "stream",
          "text": [
            "   runNumber  eventNumber  channelNumber  mcWeight  pvxp_n       vxp_z  \\\n",
            "0     207532        50916         207532       0.0      11 -104.149094   \n",
            "1     207532        51009         207532       0.0       6  -65.844475   \n",
            "2     207532        51819         207532       0.0      14  -39.951527   \n",
            "3     207532        50766         207532       0.0       9 -132.942764   \n",
            "4     207532        50939         207532       0.0      10  -22.552906   \n",
            "\n",
            "   scaleFactor_PILEUP  scaleFactor_ELE  scaleFactor_MUON  scaleFactor_BTAG  \\\n",
            "0                 0.0              0.0               0.0               0.0   \n",
            "1                 0.0              0.0               0.0               0.0   \n",
            "2                 0.0              0.0               0.0               0.0   \n",
            "3                 0.0              0.0               0.0               0.0   \n",
            "4                 0.0              0.0               0.0               0.0   \n",
            "\n",
            "   ...             jet_pt                jet_eta                 jet_phi  \\\n",
            "0  ...    [37948.6953125]  [-1.5696598291397095]   [0.09065322577953339]   \n",
            "1  ...                 []                     []                      []   \n",
            "2  ...   [29217.89453125]   [1.4666920900344849]    [2.8094160556793213]   \n",
            "3  ...  [26152.083984375]  [-0.9885200262069702]   [-1.1246103048324585]   \n",
            "4  ...     [73329.828125]   [0.1410914957523346]  [-0.10253642499446869]   \n",
            "\n",
            "             jet_E                jet_m               jet_jvf  jet_trueflav  \\\n",
            "0    [95345.34375]   [6538.86181640625]  [0.9045114517211914]         [-99]   \n",
            "1               []                   []                    []            []   \n",
            "2  [67180.6328125]   [8038.16650390625]  [0.9163985252380371]         [-99]   \n",
            "3  [40116.8828125]  [2999.367431640625]                 [0.0]         [-99]   \n",
            "4  [74669.0859375]    [9510.6435546875]                 [1.0]         [-99]   \n",
            "\n",
            "   jet_truthMatched  jet_SV0                 jet_MV1  \n",
            "0               [0]    [0.0]   [0.05590663477778435]  \n",
            "1                []       []                      []  \n",
            "2               [0]    [0.0]  [0.056142859160900116]  \n",
            "3               [0]    [0.0]     [0.052396260201931]  \n",
            "4               [0]    [0.0]   [0.05585400015115738]  \n",
            "\n",
            "[5 rows x 46 columns]\n"
          ]
        }
      ],
      "source": [
        "tree = file[\"mini\"]\n",
        "\n",
        "\n",
        "df = tree.arrays(library=\"pd\")\n",
        "\n",
        "print(df.head())"
      ]
    },
    {
      "cell_type": "code",
      "execution_count": null,
      "metadata": {
        "colab": {
          "base_uri": "https://localhost:8080/"
        },
        "id": "VxwkUw2aN4Pw",
        "outputId": "c76e7d2a-6fcb-44b6-825f-63359a46f91c"
      },
      "outputs": [
        {
          "name": "stdout",
          "output_type": "stream",
          "text": [
            "Index(['runNumber', 'eventNumber', 'channelNumber', 'mcWeight', 'pvxp_n',\n",
            "       'vxp_z', 'scaleFactor_PILEUP', 'scaleFactor_ELE', 'scaleFactor_MUON',\n",
            "       'scaleFactor_BTAG', 'scaleFactor_TRIGGER', 'scaleFactor_JVFSF',\n",
            "       'scaleFactor_ZVERTEX', 'trigE', 'trigM', 'passGRL', 'hasGoodVertex',\n",
            "       'lep_n', 'lep_truthMatched', 'lep_trigMatched', 'lep_pt', 'lep_eta',\n",
            "       'lep_phi', 'lep_E', 'lep_z0', 'lep_charge', 'lep_type', 'lep_flag',\n",
            "       'lep_ptcone30', 'lep_etcone20', 'lep_trackd0pvunbiased',\n",
            "       'lep_tracksigd0pvunbiased', 'met_et', 'met_phi', 'jet_n', 'alljet_n',\n",
            "       'jet_pt', 'jet_eta', 'jet_phi', 'jet_E', 'jet_m', 'jet_jvf',\n",
            "       'jet_trueflav', 'jet_truthMatched', 'jet_SV0', 'jet_MV1'],\n",
            "      dtype='object')\n"
          ]
        }
      ],
      "source": [
        "print(df.columns)\n"
      ]
    },
    {
      "cell_type": "code",
      "execution_count": null,
      "metadata": {
        "colab": {
          "base_uri": "https://localhost:8080/"
        },
        "id": "pr9YxYXZA3S_",
        "outputId": "aeba7e42-7066-48d8-bf49-1e7d5c19f755"
      },
      "outputs": [
        {
          "name": "stdout",
          "output_type": "stream",
          "text": [
            "<class 'pandas.core.frame.DataFrame'>\n",
            "RangeIndex: 7917590 entries, 0 to 7917589\n",
            "Data columns (total 46 columns):\n",
            " #   Column                    Dtype  \n",
            "---  ------                    -----  \n",
            " 0   runNumber                 int32  \n",
            " 1   eventNumber               int32  \n",
            " 2   channelNumber             int32  \n",
            " 3   mcWeight                  float32\n",
            " 4   pvxp_n                    int32  \n",
            " 5   vxp_z                     float32\n",
            " 6   scaleFactor_PILEUP        float32\n",
            " 7   scaleFactor_ELE           float32\n",
            " 8   scaleFactor_MUON          float32\n",
            " 9   scaleFactor_BTAG          float32\n",
            " 10  scaleFactor_TRIGGER       float32\n",
            " 11  scaleFactor_JVFSF         float32\n",
            " 12  scaleFactor_ZVERTEX       float32\n",
            " 13  trigE                     bool   \n",
            " 14  trigM                     bool   \n",
            " 15  passGRL                   bool   \n",
            " 16  hasGoodVertex             bool   \n",
            " 17  lep_n                     uint32 \n",
            " 18  lep_truthMatched          awkward\n",
            " 19  lep_trigMatched           awkward\n",
            " 20  lep_pt                    awkward\n",
            " 21  lep_eta                   awkward\n",
            " 22  lep_phi                   awkward\n",
            " 23  lep_E                     awkward\n",
            " 24  lep_z0                    awkward\n",
            " 25  lep_charge                awkward\n",
            " 26  lep_type                  awkward\n",
            " 27  lep_flag                  awkward\n",
            " 28  lep_ptcone30              awkward\n",
            " 29  lep_etcone20              awkward\n",
            " 30  lep_trackd0pvunbiased     awkward\n",
            " 31  lep_tracksigd0pvunbiased  awkward\n",
            " 32  met_et                    float32\n",
            " 33  met_phi                   float32\n",
            " 34  jet_n                     uint32 \n",
            " 35  alljet_n                  uint32 \n",
            " 36  jet_pt                    awkward\n",
            " 37  jet_eta                   awkward\n",
            " 38  jet_phi                   awkward\n",
            " 39  jet_E                     awkward\n",
            " 40  jet_m                     awkward\n",
            " 41  jet_jvf                   awkward\n",
            " 42  jet_trueflav              awkward\n",
            " 43  jet_truthMatched          awkward\n",
            " 44  jet_SV0                   awkward\n",
            " 45  jet_MV1                   awkward\n",
            "dtypes: awkward(24), bool(4), float32(11), int32(4), uint32(3)\n",
            "memory usage: 2.6 GB\n",
            "None\n",
            "   runNumber  eventNumber  channelNumber  mcWeight  pvxp_n       vxp_z  \\\n",
            "0     207532        50916         207532       0.0      11 -104.149094   \n",
            "1     207532        51009         207532       0.0       6  -65.844475   \n",
            "2     207532        51819         207532       0.0      14  -39.951527   \n",
            "3     207532        50766         207532       0.0       9 -132.942764   \n",
            "4     207532        50939         207532       0.0      10  -22.552906   \n",
            "\n",
            "   scaleFactor_PILEUP  scaleFactor_ELE  scaleFactor_MUON  scaleFactor_BTAG  \\\n",
            "0                 0.0              0.0               0.0               0.0   \n",
            "1                 0.0              0.0               0.0               0.0   \n",
            "2                 0.0              0.0               0.0               0.0   \n",
            "3                 0.0              0.0               0.0               0.0   \n",
            "4                 0.0              0.0               0.0               0.0   \n",
            "\n",
            "   ...             jet_pt                jet_eta                 jet_phi  \\\n",
            "0  ...    [37948.6953125]  [-1.5696598291397095]   [0.09065322577953339]   \n",
            "1  ...                 []                     []                      []   \n",
            "2  ...   [29217.89453125]   [1.4666920900344849]    [2.8094160556793213]   \n",
            "3  ...  [26152.083984375]  [-0.9885200262069702]   [-1.1246103048324585]   \n",
            "4  ...     [73329.828125]   [0.1410914957523346]  [-0.10253642499446869]   \n",
            "\n",
            "             jet_E                jet_m               jet_jvf  jet_trueflav  \\\n",
            "0    [95345.34375]   [6538.86181640625]  [0.9045114517211914]         [-99]   \n",
            "1               []                   []                    []            []   \n",
            "2  [67180.6328125]   [8038.16650390625]  [0.9163985252380371]         [-99]   \n",
            "3  [40116.8828125]  [2999.367431640625]                 [0.0]         [-99]   \n",
            "4  [74669.0859375]    [9510.6435546875]                 [1.0]         [-99]   \n",
            "\n",
            "   jet_truthMatched  jet_SV0                 jet_MV1  \n",
            "0               [0]    [0.0]   [0.05590663477778435]  \n",
            "1                []       []                      []  \n",
            "2               [0]    [0.0]  [0.056142859160900116]  \n",
            "3               [0]    [0.0]     [0.052396260201931]  \n",
            "4               [0]    [0.0]   [0.05585400015115738]  \n",
            "\n",
            "[5 rows x 46 columns]\n"
          ]
        }
      ],
      "source": [
        "print(df.info())\n",
        "print(df.head())\n"
      ]
    },
    {
      "cell_type": "code",
      "execution_count": null,
      "metadata": {
        "colab": {
          "base_uri": "https://localhost:8080/"
        },
        "id": "fzrvid4mBNYw",
        "outputId": "53a8f946-f10f-4c8c-dd71-b09f79878d8d"
      },
      "outputs": [
        {
          "name": "stdout",
          "output_type": "stream",
          "text": [
            "Awkward columns: ['lep_truthMatched', 'lep_trigMatched', 'lep_pt', 'lep_eta', 'lep_phi', 'lep_E', 'lep_z0', 'lep_charge', 'lep_type', 'lep_flag', 'lep_ptcone30', 'lep_etcone20', 'lep_trackd0pvunbiased', 'lep_tracksigd0pvunbiased', 'jet_pt', 'jet_eta', 'jet_phi', 'jet_E', 'jet_m', 'jet_jvf', 'jet_trueflav', 'jet_truthMatched', 'jet_SV0', 'jet_MV1']\n"
          ]
        }
      ],
      "source": [
        "awkward_cols = [col for col in df.columns if str(df[col].dtype) == \"awkward\"]\n",
        "print(\"Awkward columns:\", awkward_cols)\n"
      ]
    },
    {
      "cell_type": "code",
      "execution_count": null,
      "metadata": {
        "colab": {
          "base_uri": "https://localhost:8080/"
        },
        "id": "BoMgBQjOXqBc",
        "outputId": "a0c0e13c-b026-4a43-dac9-5b816ea27445"
      },
      "outputs": [
        {
          "name": "stdout",
          "output_type": "stream",
          "text": [
            "Processing column: lep_truthMatched\n",
            "Processing column: lep_trigMatched\n",
            "Processing column: lep_pt\n",
            "Processing column: lep_eta\n",
            "Processing column: lep_phi\n",
            "Processing column: lep_E\n",
            "Processing column: lep_z0\n",
            "Processing column: lep_charge\n",
            "Processing column: lep_type\n",
            "Processing column: lep_flag\n",
            "Processing column: lep_ptcone30\n",
            "Processing column: lep_etcone20\n",
            "Processing column: lep_trackd0pvunbiased\n",
            "Processing column: lep_tracksigd0pvunbiased\n",
            "Processing column: jet_pt\n",
            "Processing column: jet_eta\n",
            "Processing column: jet_phi\n",
            "Processing column: jet_E\n",
            "Processing column: jet_m\n",
            "Processing column: jet_jvf\n",
            "Processing column: jet_trueflav\n",
            "Processing column: jet_truthMatched\n",
            "Processing column: jet_SV0\n",
            "Processing column: jet_MV1\n"
          ]
        }
      ],
      "source": [
        "import awkward as ak\n",
        "import numpy as np\n",
        "\n",
        "for col in awkward_cols:\n",
        "    print(f\"Processing column: {col}\")\n",
        "    try:\n",
        "        # Use ak.firsts to get first element from each sublist or return None\n",
        "        first_values = ak.firsts(df[col])\n",
        "\n",
        "        # Replace None with np.nan\n",
        "        df[col] = [val if val is not None else np.nan for val in first_values]\n",
        "\n",
        "    except Exception as e:\n",
        "        print(f\"Error processing column {col}: {e}\")\n"
      ]
    },
    {
      "cell_type": "code",
      "execution_count": null,
      "metadata": {
        "id": "9Psd-xhtBPI6"
      },
      "outputs": [],
      "source": [
        "#import awkward as ak\n",
        "##import numpy as np\n",
        "#for col in awkward_cols:\n",
        "    #df[col] = ak.to_list(df[col])\n",
        "    #df[col] = df[col].apply(lambda x: x[0] if len(x) > 0 else np.nan)410\n"
      ]
    },
    {
      "cell_type": "code",
      "execution_count": null,
      "metadata": {
        "id": "5aWaFDL0Du4t"
      },
      "outputs": [],
      "source": [
        "drop_cols = ['runNumber', 'eventNumber', 'channelNumber', 'mcWeight', 'pvxp_n']\n",
        "df_clean = df.drop(columns=drop_cols, errors='ignore')\n"
      ]
    },
    {
      "cell_type": "code",
      "execution_count": null,
      "metadata": {
        "colab": {
          "base_uri": "https://localhost:8080/"
        },
        "id": "gwHlKeMhAo-u",
        "outputId": "0df5cb72-3307-4478-95e3-fcb3748b0262"
      },
      "outputs": [
        {
          "name": "stdout",
          "output_type": "stream",
          "text": [
            "<class 'pandas.core.frame.DataFrame'>\n",
            "RangeIndex: 7917590 entries, 0 to 7917589\n",
            "Data columns (total 41 columns):\n",
            " #   Column                    Dtype  \n",
            "---  ------                    -----  \n",
            " 0   vxp_z                     float32\n",
            " 1   scaleFactor_PILEUP        float32\n",
            " 2   scaleFactor_ELE           float32\n",
            " 3   scaleFactor_MUON          float32\n",
            " 4   scaleFactor_BTAG          float32\n",
            " 5   scaleFactor_TRIGGER       float32\n",
            " 6   scaleFactor_JVFSF         float32\n",
            " 7   scaleFactor_ZVERTEX       float32\n",
            " 8   trigE                     bool   \n",
            " 9   trigM                     bool   \n",
            " 10  passGRL                   bool   \n",
            " 11  hasGoodVertex             bool   \n",
            " 12  lep_n                     uint32 \n",
            " 13  lep_truthMatched          bool   \n",
            " 14  lep_trigMatched           int64  \n",
            " 15  lep_pt                    float64\n",
            " 16  lep_eta                   float64\n",
            " 17  lep_phi                   float64\n",
            " 18  lep_E                     float64\n",
            " 19  lep_z0                    float64\n",
            " 20  lep_charge                float64\n",
            " 21  lep_type                  int64  \n",
            " 22  lep_flag                  int64  \n",
            " 23  lep_ptcone30              float64\n",
            " 24  lep_etcone20              float64\n",
            " 25  lep_trackd0pvunbiased     float64\n",
            " 26  lep_tracksigd0pvunbiased  float64\n",
            " 27  met_et                    float32\n",
            " 28  met_phi                   float32\n",
            " 29  jet_n                     uint32 \n",
            " 30  alljet_n                  uint32 \n",
            " 31  jet_pt                    float64\n",
            " 32  jet_eta                   float64\n",
            " 33  jet_phi                   float64\n",
            " 34  jet_E                     float64\n",
            " 35  jet_m                     float64\n",
            " 36  jet_jvf                   float64\n",
            " 37  jet_trueflav              float64\n",
            " 38  jet_truthMatched          float64\n",
            " 39  jet_SV0                   float64\n",
            " 40  jet_MV1                   float64\n",
            "dtypes: bool(5), float32(10), float64(20), int64(3), uint32(3)\n",
            "memory usage: 1.8 GB\n",
            "None\n",
            "        vxp_z  scaleFactor_PILEUP  scaleFactor_ELE  scaleFactor_MUON  \\\n",
            "0 -104.149094                 0.0              0.0               0.0   \n",
            "1  -65.844475                 0.0              0.0               0.0   \n",
            "2  -39.951527                 0.0              0.0               0.0   \n",
            "3 -132.942764                 0.0              0.0               0.0   \n",
            "4  -22.552906                 0.0              0.0               0.0   \n",
            "\n",
            "   scaleFactor_BTAG  scaleFactor_TRIGGER  scaleFactor_JVFSF  \\\n",
            "0               0.0                  0.0                0.0   \n",
            "1               0.0                  0.0                0.0   \n",
            "2               0.0                  0.0                0.0   \n",
            "3               0.0                  0.0                0.0   \n",
            "4               0.0                  0.0                0.0   \n",
            "\n",
            "   scaleFactor_ZVERTEX  trigE  trigM  ...        jet_pt   jet_eta   jet_phi  \\\n",
            "0                  0.0   True  False  ...  37948.695312 -1.569660  0.090653   \n",
            "1                  0.0   True  False  ...           NaN       NaN       NaN   \n",
            "2                  0.0   True  False  ...  29217.894531  1.466692  2.809416   \n",
            "3                  0.0   True  False  ...  26152.083984 -0.988520 -1.124610   \n",
            "4                  0.0   True  False  ...  73329.828125  0.141091 -0.102536   \n",
            "\n",
            "          jet_E        jet_m   jet_jvf  jet_trueflav  jet_truthMatched  \\\n",
            "0  95345.343750  6538.861816  0.904511         -99.0               0.0   \n",
            "1           NaN          NaN       NaN           NaN               NaN   \n",
            "2  67180.632812  8038.166504  0.916399         -99.0               0.0   \n",
            "3  40116.882812  2999.367432  0.000000         -99.0               0.0   \n",
            "4  74669.085938  9510.643555  1.000000         -99.0               0.0   \n",
            "\n",
            "   jet_SV0   jet_MV1  \n",
            "0      0.0  0.055907  \n",
            "1      NaN       NaN  \n",
            "2      0.0  0.056143  \n",
            "3      0.0  0.052396  \n",
            "4      0.0  0.055854  \n",
            "\n",
            "[5 rows x 41 columns]\n"
          ]
        }
      ],
      "source": [
        "print(df_clean.info())\n",
        "print(df_clean.head())\n"
      ]
    },
    {
      "cell_type": "code",
      "execution_count": null,
      "metadata": {
        "colab": {
          "background_save": true
        },
        "id": "elF6gTIQ8Al3",
        "outputId": "22d15a73-630a-4f43-d47f-85e01bdec3b5"
      },
      "outputs": [
        {
          "data": {
            "application/javascript": [
              "\n",
              "    async function download(id, filename, size) {\n",
              "      if (!google.colab.kernel.accessAllowed) {\n",
              "        return;\n",
              "      }\n",
              "      const div = document.createElement('div');\n",
              "      const label = document.createElement('label');\n",
              "      label.textContent = `Downloading \"${filename}\": `;\n",
              "      div.appendChild(label);\n",
              "      const progress = document.createElement('progress');\n",
              "      progress.max = size;\n",
              "      div.appendChild(progress);\n",
              "      document.body.appendChild(div);\n",
              "\n",
              "      const buffers = [];\n",
              "      let downloaded = 0;\n",
              "\n",
              "      const channel = await google.colab.kernel.comms.open(id);\n",
              "      // Send a message to notify the kernel that we're ready.\n",
              "      channel.send({})\n",
              "\n",
              "      for await (const message of channel.messages) {\n",
              "        // Send a message to notify the kernel that we're ready.\n",
              "        channel.send({})\n",
              "        if (message.buffers) {\n",
              "          for (const buffer of message.buffers) {\n",
              "            buffers.push(buffer);\n",
              "            downloaded += buffer.byteLength;\n",
              "            progress.value = downloaded;\n",
              "          }\n",
              "        }\n",
              "      }\n",
              "      const blob = new Blob(buffers, {type: 'application/binary'});\n",
              "      const a = document.createElement('a');\n",
              "      a.href = window.URL.createObjectURL(blob);\n",
              "      a.download = filename;\n",
              "      div.appendChild(a);\n",
              "      a.click();\n",
              "      div.remove();\n",
              "    }\n",
              "  "
            ],
            "text/plain": [
              "<IPython.core.display.Javascript object>"
            ]
          },
          "metadata": {},
          "output_type": "display_data"
        },
        {
          "data": {
            "application/javascript": [
              "download(\"download_a40d1c84-aba9-4f26-8dea-69af03c0986e\", \"preprocessed_data.csv\", 2890455934)"
            ],
            "text/plain": [
              "<IPython.core.display.Javascript object>"
            ]
          },
          "metadata": {},
          "output_type": "display_data"
        }
      ],
      "source": [
        "# Save the preprocessed DataFrame to CSV\n",
        "df.to_csv(\"preprocessed_data.csv\", index=False)\n",
        "\n",
        "# Download the CSV file to your computer\n",
        "from google.colab import files\n",
        "files.download(\"preprocessed_data.csv\")\n"
      ]
    }
  ],
  "metadata": {
    "colab": {
      "provenance": [],
      "authorship_tag": "ABX9TyNPX8CwTuMPjUDiSV8edUVG",
      "include_colab_link": true
    },
    "kernelspec": {
      "display_name": "Python 3",
      "name": "python3"
    },
    "language_info": {
      "name": "python"
    }
  },
  "nbformat": 4,
  "nbformat_minor": 0
}